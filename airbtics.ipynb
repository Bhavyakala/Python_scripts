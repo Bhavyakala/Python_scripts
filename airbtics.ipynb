{
 "metadata": {
  "language_info": {
   "codemirror_mode": {
    "name": "ipython",
    "version": 3
   },
   "file_extension": ".py",
   "mimetype": "text/x-python",
   "name": "python",
   "nbconvert_exporter": "python",
   "pygments_lexer": "ipython3",
   "version": "3.7.3-final"
  },
  "orig_nbformat": 2,
  "kernelspec": {
   "name": "Python 3.7.3 64-bit ('base': conda)",
   "display_name": "Python 3.7.3 64-bit ('base': conda)",
   "metadata": {
    "interpreter": {
     "hash": "85b2943e6aac9cf914cbcc3c2d050b9cd81ac73bf42dc3197770cac607912527"
    }
   }
  }
 },
 "nbformat": 4,
 "nbformat_minor": 2,
 "cells": [
  {
   "cell_type": "code",
   "execution_count": 4,
   "metadata": {
    "tags": []
   },
   "outputs": [
    {
     "output_type": "stream",
     "name": "stdout",
     "text": "0.15,0.12,0.55,0.56,0.75,0.77,0.9,0.94,0.35,0.38\n"
    }
   ],
   "source": [
    "list_num_string = input(\"Input list of numbers sepearated by comma: \")\n",
    "\n",
    "def balance(list_num_string):\n",
    "    bucket = {0.0: [], 2.0:[], 3.0:[], 4.0:[]} # Stores numbers in different buckets\n",
    "\n",
    "    list_num = [float(i) for i in list_num_string.split(',')] #converts string input to list of floats\n",
    "    \n",
    "    # Add numbers into different buckets\n",
    "    for i in list_num:\n",
    "        if (i*10)//2 not in bucket:\n",
    "            bucket[(i*10)//2] = [i]\n",
    "        else :\n",
    "            bucket[(i*10)//2].append(i)\n",
    "\n",
    "    # Taking avg and minimum of no of items in each bucket\n",
    "    s=0\n",
    "    mn = sys.maxsize\n",
    "    for item in bucket.items():\n",
    "        s+=len(item[1])\n",
    "        mn = min(len(item[1]),mn)\n",
    "    avg = s//5\n",
    "    \n",
    "    final_list = []\n",
    "\n",
    "    #If any bcket is empty return None\n",
    "    if mn<=0:\n",
    "        return None\n",
    "    \n",
    "    pick_num = min(mn,avg) #no. of items to pick from a bucket\n",
    "    \n",
    "    for item in bucket.items():\n",
    "        final_list.extend(item[1][:pick_num])\n",
    "\n",
    "    return ','.join([str(i) for i in final_list])\n",
    "\n",
    "print(balance(list_num_string))"
   ]
  },
  {
   "source": [
    "# PROBLEM 2\n",
    "Given a 2d grid map of '1's (land) and '0's (water), count the number of islands. An island is\n",
    "surrounded by water and is formed by connecting adjacent lands horizontally or vertically. You\n",
    "may assume all four edges of the grid are all surrounded by water.\n",
    "\n",
    "#### Example input\n",
    "\n",
    "Input: grid = [ <br>\n",
    "    [ \"1\", \"1\", \"1\", \"1\", \"0\"], <br>\n",
    "    [ \"1\", \"1\", \"0\", \"1\", \"0\"], <br>\n",
    "    [ \"1\", \"1\", \"0\", \"0\", \"0\"], <br>\n",
    "    [ \"0\", \"0\", \"0\", \"0\", \"0\"]  <br>\n",
    "] <br>\n",
    "\n",
    "Output: 1 <br>\n",
    "\n",
    "\n"
   ],
   "cell_type": "markdown",
   "metadata": {}
  },
  {
   "cell_type": "code",
   "execution_count": 1,
   "metadata": {},
   "outputs": [],
   "source": [
    "class Graph:\n",
    "    nbr = [-1,0,1, 0] # utility arrays  \n",
    "    nbc = [ 0,1,0,-1] # for exploring adjacent lands\n",
    "    grid = [[]] #input grid\n",
    "    ROWS = 0 # No. of rows\n",
    "    COLS = 0 # No. of columns\n",
    "    vis  = [[]] \n",
    "    \n",
    "    def __init__(self,row, col, g):\n",
    "        self.grid = g\n",
    "        self.ROWS = row\n",
    "        self.COLS = col\n",
    "        self.vis = [[False for j in range(self.COLS)] for i in range(self.ROWS)]\n",
    "    \n",
    "    # Function to check for valid indexes of grid (i,j)\n",
    "    def isSafe(self,i,j):\n",
    "        if i>=0 and i<self.ROWS and j>=0 and j<self.COLS:\n",
    "            return True\n",
    "        else :\n",
    "            return False\n",
    "    # Functin of Depth first Search (dfs) for exploring the lands\n",
    "    def dfs(self,i,j):\n",
    "        self.vis[i][j] = True\n",
    "        for x in range(4):\n",
    "            cr = i + self.nbr[x]\n",
    "            cc = j + self.nbc[x]\n",
    "            if self.isSafe(cr,cc) and not self.vis[cr][cc] and self.grid[cr][cc]=='1':\n",
    "                self.dfs(cr,cc)\n",
    "    # Function to count no of islands by finding no of connected components in the grid\n",
    "    def numIslands(self) :\n",
    "        count = 0\n",
    "        for i in range(self.ROWS):\n",
    "            for j in range(self.COLS):\n",
    "                if not self.vis[i][j] and self.grid[i][j]=='1':\n",
    "                    count+=1\n",
    "                    self.dfs(i,j)\n",
    "        return count      \n",
    "\n"
   ]
  },
  {
   "cell_type": "code",
   "execution_count": 2,
   "metadata": {
    "tags": []
   },
   "outputs": [
    {
     "output_type": "stream",
     "name": "stdout",
     "text": "3\n"
    }
   ],
   "source": [
    "grid = [\n",
    "    [\"1\",\"1\",\"0\",\"0\",\"0\"],\n",
    "    [\"1\",\"1\",\"0\",\"0\",\"0\"],\n",
    "    [\"0\",\"0\",\"1\",\"0\",\"0\"],\n",
    "    [\"0\",\"0\",\"0\",\"1\",\"1\"]\n",
    "]\n",
    "row = len(grid)\n",
    "col = len(grid[0])\n",
    "g = Graph(row,col,grid)\n",
    "print(g.numIslands())"
   ]
  },
  {
   "source": [
    "# PROBLEM 3\n",
    "\n",
    "The main aim of our problem is to find how we can predict the occupancy rate of a listing in airbnb. <br>\n",
    "The most important factors that affect the occupancy rate of a listing are :\n",
    " - Location\n",
    " - Amenities like A.C, wifi, TV, pool etc.\n",
    " - No. of bedrooms\n",
    " - No. of bathrooms\n",
    " - No. of guests that can be accomodated\n",
    " - Cleaning fee\n",
    " - Cancellation policy\n",
    " - Service fee\n",
    " - No. of reviews\n",
    " - Availability\n",
    " - No. of postive/negative reviews \n",
    " - occupancy\n",
    " - price per ni\n",
    " \n",
    "Location - Depends wether the person is comfortable with that location or it is a healthy/clean locality. <br>\n",
    "Amenities - Different people have different requirements so if they find more amenities then they are likely occupy it. <br>\n",
    "Cleaning fee - people like to stay in clean property but at the same time the cleaning fee should be affordable. <br>\n",
    "Cancellation policy - for people who have more possibility of cancellation such as frequent travellers would like to have a good deal. <br>\n",
    "Availability - property should be available for accomodation most of the time that is it should not be under construction or maintanence also                availability rate over a span of few days could hel pin predicting the occupancy rate of upcoming days. <br>\n",
    "Reviews - Play a vital factor in occupancy rate as any person who will see a property firsts checks out reviews and makes a decision on that.\n",
    "\n",
    "After collecting data of this over some time we can find a pattern and anomalies for occupancy rate increment and decrement and find the reason behind it. First I will start with sentiment analysis of reviews and categorize them into postive/negative reviews as reviews tells us the state of the property and helps us predict occupancy rate and hence revenue. all the above parameters can be fed into a machine learning and deep learning model to predict occupancy rate and we can then get revenue generated for that year using occupancy rate and the price of the property.\n",
    "\n",
    "\n",
    " \n",
    "\n"
   ],
   "cell_type": "markdown",
   "metadata": {}
  },
  {
   "cell_type": "code",
   "execution_count": null,
   "metadata": {},
   "outputs": [],
   "source": [
    "\n"
   ]
  }
 ]
}